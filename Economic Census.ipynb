{
 "cells": [
  {
   "cell_type": "code",
   "execution_count": 18,
   "metadata": {},
   "outputs": [],
   "source": [
    "# Dependencies\n",
    "import numpy as np\n",
    "import pandas as pd\n",
    "import matplotlib.pyplot as plt\n",
    "from scipy import stats\n",
    "import requests\n",
    "from pprint import pprint\n",
    "\n",
    "# Import csv broadband data to dataframe\n",
    "broadband_df = pd.read_csv(\"CSV_files/clean_broadband.csv\")\n",
    "\n",
    "# Census API Key\n",
    "from config import census_api_key"
   ]
  },
  {
   "cell_type": "code",
   "execution_count": 19,
   "metadata": {},
   "outputs": [],
   "source": [
    "# Assume year is 2017\n",
    "\n",
    "# Craft base url\n",
    "base_url = \"https://api.census.gov/data/2017/ecnbasic\"\n",
    "\n",
    "# Craft query url\n",
    "query_url = base_url + f\"?get=NAICS2017_LABEL,EMP,NAME,GEO_ID&for=county:*&NAICS2017=51&key={census_api_key}\"\n",
    "\n",
    "# Grabs relevant data from census\n",
    "response = requests.get(query_url).json()"
   ]
  },
  {
   "cell_type": "code",
   "execution_count": 20,
   "metadata": {},
   "outputs": [
    {
     "data": {
      "text/html": [
       "<div>\n",
       "<style scoped>\n",
       "    .dataframe tbody tr th:only-of-type {\n",
       "        vertical-align: middle;\n",
       "    }\n",
       "\n",
       "    .dataframe tbody tr th {\n",
       "        vertical-align: top;\n",
       "    }\n",
       "\n",
       "    .dataframe thead th {\n",
       "        text-align: right;\n",
       "    }\n",
       "</style>\n",
       "<table border=\"1\" class=\"dataframe\">\n",
       "  <thead>\n",
       "    <tr style=\"text-align: right;\">\n",
       "      <th></th>\n",
       "      <th>NAICS2017 Label</th>\n",
       "      <th>Number Employed</th>\n",
       "      <th>County, State</th>\n",
       "      <th>GEO ID</th>\n",
       "    </tr>\n",
       "  </thead>\n",
       "  <tbody>\n",
       "    <tr>\n",
       "      <th>1</th>\n",
       "      <td>Information</td>\n",
       "      <td>1180</td>\n",
       "      <td>Montgomery County, Virginia</td>\n",
       "      <td>0500000US51121</td>\n",
       "    </tr>\n",
       "    <tr>\n",
       "      <th>2</th>\n",
       "      <td>Information</td>\n",
       "      <td>20</td>\n",
       "      <td>New Kent County, Virginia</td>\n",
       "      <td>0500000US51127</td>\n",
       "    </tr>\n",
       "    <tr>\n",
       "      <th>3</th>\n",
       "      <td>Information</td>\n",
       "      <td>96</td>\n",
       "      <td>Augusta County, Virginia</td>\n",
       "      <td>0500000US51015</td>\n",
       "    </tr>\n",
       "    <tr>\n",
       "      <th>4</th>\n",
       "      <td>Information</td>\n",
       "      <td>18</td>\n",
       "      <td>Cumberland County, Virginia</td>\n",
       "      <td>0500000US51049</td>\n",
       "    </tr>\n",
       "    <tr>\n",
       "      <th>5</th>\n",
       "      <td>Information</td>\n",
       "      <td>0</td>\n",
       "      <td>Dickenson County, Virginia</td>\n",
       "      <td>0500000US51051</td>\n",
       "    </tr>\n",
       "  </tbody>\n",
       "</table>\n",
       "</div>"
      ],
      "text/plain": [
       "  NAICS2017 Label Number Employed                County, State          GEO ID\n",
       "1     Information            1180  Montgomery County, Virginia  0500000US51121\n",
       "2     Information              20    New Kent County, Virginia  0500000US51127\n",
       "3     Information              96     Augusta County, Virginia  0500000US51015\n",
       "4     Information              18  Cumberland County, Virginia  0500000US51049\n",
       "5     Information               0   Dickenson County, Virginia  0500000US51051"
      ]
     },
     "execution_count": 20,
     "metadata": {},
     "output_type": "execute_result"
    }
   ],
   "source": [
    "# Initialize empty arrays\n",
    "NAICS2017_label = []\n",
    "number_employed = []\n",
    "county_name = []\n",
    "GEO_ID = []\n",
    "\n",
    "# Creates arrays by appending relevant data to array,which maintains index.\n",
    "for county in response:\n",
    "    NAICS2017_label.append(county[0])\n",
    "    number_employed.append(county[1])\n",
    "    county_name.append(county[2])\n",
    "    GEO_ID.append(county[3])\n",
    "    \n",
    "# Arrays are compiled into a dataframe\n",
    "county_2017_df = pd.DataFrame({\"NAICS2017 Label\":NAICS2017_label,\n",
    "                              \"Number Employed\":number_employed,\n",
    "                              \"County, State\":county_name,\n",
    "                              \"GEO ID\":GEO_ID})\n",
    "\n",
    "# As the first row of the dataframe is the labels from the Census, it must be dropped.\n",
    "county_2017_df.drop(index=0,inplace=True)\n",
    "\n",
    "# Output the resulting array.\n",
    "county_2017_df.head()"
   ]
  },
  {
   "cell_type": "code",
   "execution_count": 21,
   "metadata": {},
   "outputs": [
    {
     "data": {
      "text/html": [
       "<div>\n",
       "<style scoped>\n",
       "    .dataframe tbody tr th:only-of-type {\n",
       "        vertical-align: middle;\n",
       "    }\n",
       "\n",
       "    .dataframe tbody tr th {\n",
       "        vertical-align: top;\n",
       "    }\n",
       "\n",
       "    .dataframe thead th {\n",
       "        text-align: right;\n",
       "    }\n",
       "</style>\n",
       "<table border=\"1\" class=\"dataframe\">\n",
       "  <thead>\n",
       "    <tr style=\"text-align: right;\">\n",
       "      <th></th>\n",
       "      <th>NAICS2017 Label</th>\n",
       "      <th>Number Employed</th>\n",
       "      <th>County, State</th>\n",
       "      <th>GEO ID</th>\n",
       "      <th>Broadband (%)</th>\n",
       "      <th>Year</th>\n",
       "    </tr>\n",
       "  </thead>\n",
       "  <tbody>\n",
       "    <tr>\n",
       "      <th>0</th>\n",
       "      <td>Information</td>\n",
       "      <td>1180</td>\n",
       "      <td>Montgomery County, Virginia</td>\n",
       "      <td>0500000US51121</td>\n",
       "      <td>91.862321</td>\n",
       "      <td>2017</td>\n",
       "    </tr>\n",
       "    <tr>\n",
       "      <th>1</th>\n",
       "      <td>Information</td>\n",
       "      <td>20</td>\n",
       "      <td>New Kent County, Virginia</td>\n",
       "      <td>0500000US51127</td>\n",
       "      <td>62.130177</td>\n",
       "      <td>2017</td>\n",
       "    </tr>\n",
       "    <tr>\n",
       "      <th>2</th>\n",
       "      <td>Information</td>\n",
       "      <td>96</td>\n",
       "      <td>Augusta County, Virginia</td>\n",
       "      <td>0500000US51015</td>\n",
       "      <td>80.310768</td>\n",
       "      <td>2017</td>\n",
       "    </tr>\n",
       "    <tr>\n",
       "      <th>3</th>\n",
       "      <td>Information</td>\n",
       "      <td>18</td>\n",
       "      <td>Cumberland County, Virginia</td>\n",
       "      <td>0500000US51049</td>\n",
       "      <td>47.191009</td>\n",
       "      <td>2017</td>\n",
       "    </tr>\n",
       "    <tr>\n",
       "      <th>4</th>\n",
       "      <td>Information</td>\n",
       "      <td>0</td>\n",
       "      <td>Dickenson County, Virginia</td>\n",
       "      <td>0500000US51051</td>\n",
       "      <td>54.263568</td>\n",
       "      <td>2017</td>\n",
       "    </tr>\n",
       "  </tbody>\n",
       "</table>\n",
       "</div>"
      ],
      "text/plain": [
       "  NAICS2017 Label Number Employed                County, State  \\\n",
       "0     Information            1180  Montgomery County, Virginia   \n",
       "1     Information              20    New Kent County, Virginia   \n",
       "2     Information              96     Augusta County, Virginia   \n",
       "3     Information              18  Cumberland County, Virginia   \n",
       "4     Information               0   Dickenson County, Virginia   \n",
       "\n",
       "           GEO ID  Broadband (%)  Year  \n",
       "0  0500000US51121      91.862321  2017  \n",
       "1  0500000US51127      62.130177  2017  \n",
       "2  0500000US51015      80.310768  2017  \n",
       "3  0500000US51049      47.191009  2017  \n",
       "4  0500000US51051      54.263568  2017  "
      ]
     },
     "execution_count": 21,
     "metadata": {},
     "output_type": "execute_result"
    }
   ],
   "source": [
    "# 2017 Broadband dataframe is crafted only grabbing relevant columns to prevent clutter\n",
    "broadband_2017_df = broadband_df.loc[broadband_df[\"Year\"] == 2017][[\"Broadband (%)\",\"GEO ID\",\"Year\"]]\n",
    "\n",
    "# Broadband dataframe is combined with county 2017 data from census.  Inner merge is used to drop all empty data points.\n",
    "combined_2017_df = county_2017_df.merge(broadband_2017_df, how=\"inner\", on=\"GEO ID\")\n",
    "\n",
    "# Data is output to screen and as a csv.\n",
    "combined_2017_df.to_csv(f'CSV_files/{combined_2017_df[\"Year\"].min()}_{combined_2017_df[\"NAICS2017 Label\"].min()}_ecnbasic.csv',\n",
    "                        index=False)\n",
    "combined_2017_df.head()"
   ]
  },
  {
   "cell_type": "code",
   "execution_count": 22,
   "metadata": {},
   "outputs": [
    {
     "name": "stdout",
     "output_type": "stream",
     "text": [
      "22\n",
      "Successfully retrieved\n",
      "51\n",
      "Successfully retrieved\n",
      "52\n",
      "Successfully retrieved\n",
      "53\n",
      "Successfully retrieved\n",
      "54\n",
      "Successfully retrieved\n",
      "56\n",
      "Successfully retrieved\n",
      "61\n",
      "Successfully retrieved\n",
      "62\n",
      "Successfully retrieved\n",
      "71\n",
      "Successfully retrieved\n",
      "72\n",
      "Successfully retrieved\n",
      "81\n",
      "Successfully retrieved\n"
     ]
    }
   ],
   "source": [
    "# Above is the work done to ensure the program works.  The below is a version that grabs a collection of dataframes based upon\n",
    "#    NAICS labels.\n",
    "\n",
    "# List of single labels to examine for all that the census has data on that doesn't crash.\n",
    "# This was done by looking at census documentation, writing out each NAICS label into a list, and removing values that crashed\n",
    "# The original list was [21,22,23,31,32,33,42,44,45,48,49,51,52,53,54,55,56,61,62,71,72,81]\n",
    "NAICS_list = [22,51,52,53,54,56,61,62,71,72,81]\n",
    "\n",
    "# Assume year is 2017\n",
    "# Grab csv for acs5 in 2017 then cut out all irrelevant columns\n",
    "acs5_data = pd.read_csv(\"CSV_files/acs5_2017.csv\")\n",
    "acs5_df = acs5_data[[\"Name\",\"Population\"]]\n",
    "\n",
    "\n",
    "# Craft base url\n",
    "base_url = \"https://api.census.gov/data/2017/ecnbasic\"\n",
    "\n",
    "# Empty list of file paths and total number employed in label are made\n",
    "NAICS_2017_csv_paths = []\n",
    "\n",
    "for label in NAICS_list:\n",
    "    \n",
    "    # As this label is printed first, if a csv is crafted, the next number appears. Otherwise, the last label crashed it.\n",
    "    print(label)\n",
    " \n",
    "    # query url is crafted\n",
    "    query_url = base_url + f\"?get=NAICS2017_LABEL,EMP,NAME,GEO_ID&for=county:*&NAICS2017={label}&key={census_api_key}\"\n",
    "   \n",
    "    # census is called\n",
    "    response = requests.get(query_url).json()\n",
    "    \n",
    "    # Initialize empty arrays\n",
    "    NAICS2017_label = []\n",
    "    number_employed = []\n",
    "    county_name = []\n",
    "    GEO_ID = []\n",
    "\n",
    "    # Creates arrays by appending relevant data to array,which maintains index.\n",
    "    for county in response:\n",
    "        NAICS2017_label.append(county[0])\n",
    "        number_employed.append(county[1])\n",
    "        county_name.append(county[2])\n",
    "        GEO_ID.append(county[3])\n",
    "    \n",
    "    # Arrays are compiled into a dataframe\n",
    "    county_2017_data = pd.DataFrame({\"NAICS2017 Label\":NAICS2017_label,\n",
    "                                  \"Number Employed\":number_employed,\n",
    "                                  \"Name\":county_name,\n",
    "                                  \"GEO ID\":GEO_ID})\n",
    "    \n",
    "    # Population data is merged into dataframe\n",
    "    county_2017_df = pd.DataFrame.merge(county_2017_data ,acs5_df, how=\"inner\")\n",
    "\n",
    "    # As the first row of the dataframe is the labels from the Census, it must be dropped.\n",
    "    county_2017_df.drop(index=0,inplace=True)\n",
    "    \n",
    "    # 2017 Broadband dataframe is crafted only grabbing relevant columns to prevent clutter\n",
    "    broadband_2017_df = broadband_df.loc[broadband_df[\"Year\"] == 2017][[\"Broadband (%)\",\"GEO ID\",\"Year\"]]\n",
    "\n",
    "    # Broadband dataframe is combined with county 2017 data from census.  Inner merge is used to drop all empty data points.\n",
    "    combined_2017_df = county_2017_df.merge(broadband_2017_df, how=\"inner\", on=\"GEO ID\")\n",
    "\n",
    "\n",
    "    # Column needed for math is saved as int to ensure math and not concatenation\n",
    "    # Total number employed in label is appended to relevant array\n",
    "    # New column for percent employed in label is calculated then made into new column for combined dataframe\n",
    "    combined_2017_df[\"Number Employed\"] = combined_2017_df[\"Number Employed\"].astype(float)\n",
    "    combined_2017_df[\"Percent Employed\"] = 100 * combined_2017_df[\"Number Employed\"] / combined_2017_df[\"Population\"]\n",
    "    \n",
    "    # Data is saved as a csv.\n",
    "    combined_2017_df.to_csv(f'CSV_files/{combined_2017_df[\"Year\"].min()}_{combined_2017_df[\"NAICS2017 Label\"].min()}_ecnbasic.csv',\n",
    "                            index=False)\n",
    "    \n",
    "    # File path for csv file just written to is appended to relevant array\n",
    "    NAICS_2017_csv_paths.append(f'CSV_files/{combined_2017_df[\"Year\"].min()}_{combined_2017_df[\"NAICS2017 Label\"].min()}_ecnbasic.csv')\n",
    "\n",
    "    \n",
    "    # Did the loop finish?\n",
    "    print(\"Successfully retrieved\")\n",
    "    \n",
    "# List of csv paths is turned into a dataframe then saved as a csv.\n",
    "NAICS_2017_csv_paths_df = pd.DataFrame({\"Paths\": NAICS_2017_csv_paths})\n",
    "NAICS_2017_csv_paths_df.to_csv(f'CSV_files/NAICS_2017_csv_paths.csv', index=False) "
   ]
  },
  {
   "cell_type": "code",
   "execution_count": 30,
   "metadata": {},
   "outputs": [
    {
     "data": {
      "image/png": "[encoded data removed]",
      "text/plain": [
       "<Figure size 432x288 with 1 Axes>"
      ]
     },
     "metadata": {
      "needs_background": "light"
     },
     "output_type": "display_data"
    }
   ],
   "source": [
    "# This section runs a linear regression for all NAICS labels and broadband access\n",
    "\n",
    "# Empty arrays for r-squared and r-values are initialized\n",
    "r_squared = []\n",
    "r_values = []\n",
    "\n",
    "\n",
    "# for loop looping through all paths created in previous steps analyzes all files based upon number employed vs broadband access\n",
    "#    for a specific NAICS label.\n",
    "for path in NAICS_2017_csv_paths_df[\"Paths\"]:\n",
    "    \n",
    "    # Clears figure so plots do not superimpose\n",
    "    plt.clf()\n",
    "    \n",
    "    # Dataframe for relevant label is made\n",
    "    label_df = pd.read_csv(path)\n",
    "    \n",
    "    # Lists for x and y values are defined\n",
    "    x = label_df['Number Employed']\n",
    "    y = label_df['Broadband (%)']\n",
    "\n",
    "    # Linear regression is run\n",
    "    label_slope, label_int, label_r, p, std_err = stats.linregress(x ,y)\n",
    "    label_fit = label_slope * x + label_int\n",
    "\n",
    "    # Plot is crafted and labeled then linear regression and r-squared are superimposed\n",
    "    plt.scatter(x ,y , marker=\"o\", facecolors=\"blue\", edgecolors=\"red\")\n",
    "    plt.title(f'{label_df[\"Year\"].min()} Number Employed in {label_df[\"NAICS2017 Label\"].min()} vs. \\n Percent Broadband Access')\n",
    "    plt.xlabel(\"Number Employed\")\n",
    "    plt.ylabel(\"Broadband Access (%)\")\n",
    "    plt.plot(x , label_fit,\"--\")\n",
    "    \n",
    "    # Values for r-squared and r-values are appended to the relevant array\n",
    "    r_squared.append(f'The r-squared for {label_df[\"NAICS2017 Label\"].min()} is {round(label_r**2,3)}.')\n",
    "    r_values.append(f'The r-value for {label_df[\"NAICS2017 Label\"].min()} is {round(label_r,3)}.')\n",
    "\n",
    "    # plot is output and saved as a png\n",
    "    plt.savefig(f'output_charts/{label_df[\"Year\"].min()}_NAICS_{label_df[\"NAICS2017 Label\"].min()}_lin_regress.png',format='png')\n",
    "    \n"
   ]
  },
  {
   "cell_type": "code",
   "execution_count": 31,
   "metadata": {},
   "outputs": [
    {
     "data": {
      "text/plain": [
       "['The r-squared for Utilities is 0.044.',\n",
       " 'The r-squared for Information is 0.055.',\n",
       " 'The r-squared for Finance and insurance is 0.078.',\n",
       " 'The r-squared for Real estate and rental and leasing is 0.078.',\n",
       " 'The r-squared for Professional, scientific, and technical services is 0.079.',\n",
       " 'The r-squared for Administrative and support and waste management and remediation services is 0.062.',\n",
       " 'The r-squared for Educational services is 0.066.',\n",
       " 'The r-squared for Health care and social assistance is 0.144.',\n",
       " 'The r-squared for Arts, entertainment, and recreation is 0.087.',\n",
       " 'The r-squared for Accommodation and food services is 0.119.',\n",
       " 'The r-squared for Other services (except public administration) is 0.115.']"
      ]
     },
     "execution_count": 31,
     "metadata": {},
     "output_type": "execute_result"
    }
   ],
   "source": [
    "r_squared"
   ]
  },
  {
   "cell_type": "code",
   "execution_count": 32,
   "metadata": {},
   "outputs": [
    {
     "data": {
      "text/plain": [
       "['The r-value for Utilities is 0.209.',\n",
       " 'The r-value for Information is 0.235.',\n",
       " 'The r-value for Finance and insurance is 0.279.',\n",
       " 'The r-value for Real estate and rental and leasing is 0.28.',\n",
       " 'The r-value for Professional, scientific, and technical services is 0.28.',\n",
       " 'The r-value for Administrative and support and waste management and remediation services is 0.249.',\n",
       " 'The r-value for Educational services is 0.256.',\n",
       " 'The r-value for Health care and social assistance is 0.38.',\n",
       " 'The r-value for Arts, entertainment, and recreation is 0.295.',\n",
       " 'The r-value for Accommodation and food services is 0.345.',\n",
       " 'The r-value for Other services (except public administration) is 0.339.']"
      ]
     },
     "execution_count": 32,
     "metadata": {},
     "output_type": "execute_result"
    }
   ],
   "source": [
    "r_values"
   ]
  },
  {
   "cell_type": "code",
   "execution_count": 33,
   "metadata": {},
   "outputs": [
    {
     "data": {
      "image/png": "[encoded data removed]",
      "text/plain": [
       "<Figure size 432x288 with 1 Axes>"
      ]
     },
     "metadata": {
      "needs_background": "light"
     },
     "output_type": "display_data"
    }
   ],
   "source": [
    "# Previous linear regression appears to be primarily a population map, so here we examine the percent employed by each industry.\n",
    "\n",
    "# Empty arrays for r-squared and r-values are initialized\n",
    "r_squared = []\n",
    "r_values = []\n",
    "\n",
    "# for loop to examine for all paths\n",
    "for path in NAICS_2017_csv_paths_df[\"Paths\"]:\n",
    "    \n",
    "    # Clears figure so plots do not superimpose\n",
    "    plt.clf()\n",
    "    \n",
    "    # Dataframe for relevant label is made\n",
    "    label_df = pd.read_csv(path)\n",
    "    \n",
    "    # Lists for x and y values are defined\n",
    "    x = label_df['Percent Employed']\n",
    "    y = label_df['Broadband (%)']\n",
    "\n",
    "    # Linear regression is run\n",
    "    label_slope, label_int, label_r, p, std_err = stats.linregress(x ,y)\n",
    "    label_fit = label_slope * x + label_int\n",
    "\n",
    "    # Plot is crafted and labeled then linear regression and r-squared is superimposed\n",
    "    plt.scatter(x ,y , marker=\"o\", facecolors=\"blue\", edgecolors=\"red\")\n",
    "    plt.title(f'{label_df[\"Year\"].min()} Percent Employed in {label_df[\"NAICS2017 Label\"].min()} vs. \\n Percent Broadband Access')\n",
    "    plt.xlabel(\"Percent Employed\")\n",
    "    plt.ylabel(\"Broadband Access (%)\")\n",
    "    plt.plot(x , label_fit,\"--\")\n",
    "\n",
    "    # Values for r-squared and r-values are appended to the relevant array\n",
    "    r_squared.append(f'The r-squared for {label_df[\"NAICS2017 Label\"].min()} is {round(label_r**2,3)}.')\n",
    "    r_values.append(f'The r-value for {label_df[\"NAICS2017 Label\"].min()} is {round(label_r,3)}.')    \n",
    "\n",
    "    # plot is output and saved as a png\n",
    "    plt.savefig(f'output_charts/{label_df[\"Year\"].min()}_NAICS_{label_df[\"NAICS2017 Label\"].min()}_lin_regress_percent_employed.png',format='png')"
   ]
  },
  {
   "cell_type": "code",
   "execution_count": 34,
   "metadata": {},
   "outputs": [
    {
     "data": {
      "text/plain": [
       "['The r-squared for Utilities is 0.008.',\n",
       " 'The r-squared for Information is 0.126.',\n",
       " 'The r-squared for Finance and insurance is 0.137.',\n",
       " 'The r-squared for Real estate and rental and leasing is 0.09.',\n",
       " 'The r-squared for Professional, scientific, and technical services is 0.147.',\n",
       " 'The r-squared for Administrative and support and waste management and remediation services is 0.171.',\n",
       " 'The r-squared for Educational services is 0.063.',\n",
       " 'The r-squared for Health care and social assistance is 0.096.',\n",
       " 'The r-squared for Arts, entertainment, and recreation is 0.006.',\n",
       " 'The r-squared for Accommodation and food services is 0.043.',\n",
       " 'The r-squared for Other services (except public administration) is 0.128.']"
      ]
     },
     "execution_count": 34,
     "metadata": {},
     "output_type": "execute_result"
    }
   ],
   "source": [
    "r_squared"
   ]
  },
  {
   "cell_type": "code",
   "execution_count": 35,
   "metadata": {},
   "outputs": [
    {
     "data": {
      "text/plain": [
       "['The r-value for Utilities is -0.091.',\n",
       " 'The r-value for Information is 0.355.',\n",
       " 'The r-value for Finance and insurance is 0.37.',\n",
       " 'The r-value for Real estate and rental and leasing is 0.301.',\n",
       " 'The r-value for Professional, scientific, and technical services is 0.383.',\n",
       " 'The r-value for Administrative and support and waste management and remediation services is 0.414.',\n",
       " 'The r-value for Educational services is 0.25.',\n",
       " 'The r-value for Health care and social assistance is 0.31.',\n",
       " 'The r-value for Arts, entertainment, and recreation is 0.08.',\n",
       " 'The r-value for Accommodation and food services is 0.207.',\n",
       " 'The r-value for Other services (except public administration) is 0.357.']"
      ]
     },
     "execution_count": 35,
     "metadata": {},
     "output_type": "execute_result"
    }
   ],
   "source": [
    "r_values"
   ]
  }
 ],
 "metadata": {
  "kernelspec": {
   "display_name": "Python [conda env:PythonData] *",
   "language": "python",
   "name": "conda-env-PythonData-py"
  },
  "language_info": {
   "codemirror_mode": {
    "name": "ipython",
    "version": 3
   },
   "file_extension": ".py",
   "mimetype": "text/x-python",
   "name": "python",
   "nbconvert_exporter": "python",
   "pygments_lexer": "ipython3",
   "version": "3.6.10"
  }
 },
 "nbformat": 4,
 "nbformat_minor": 4
}
