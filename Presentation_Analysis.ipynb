{
 "cells": [
  {
   "cell_type": "code",
   "execution_count": 1,
   "metadata": {},
   "outputs": [],
   "source": [
    "## The following code is how we did all analysis (with the exception of the dpendencies, which are just here so it runs).\n",
    "## The code is simply copied and pasted for any analysis that needs to be done by changing the array that runs the for loop\n",
    "##     as well as some minor tweaking for formatting titles and labels.\n",
    "## First is the NAICS analysis, then the much more generalized poverty analysis."
   ]
  },
  {
   "cell_type": "code",
   "execution_count": 2,
   "metadata": {},
   "outputs": [],
   "source": [
    "# Dependencies\n",
    "import numpy as np\n",
    "import pandas as pd\n",
    "import matplotlib.pyplot as plt\n",
    "from scipy import stats\n",
    "import requests\n",
    "from pprint import pprint\n",
    "\n",
    "# Import csv broadband data to dataframe\n",
    "broadband_df = pd.read_csv(\"CSV_files/clean_broadband.csv\")\n",
    "\n",
    "# Census API Key\n",
    "from config import census_api_key"
   ]
  },
  {
   "cell_type": "code",
   "execution_count": 3,
   "metadata": {},
   "outputs": [
    {
     "data": {
      "text/html": [
       "<div>\n",
       "<style scoped>\n",
       "    .dataframe tbody tr th:only-of-type {\n",
       "        vertical-align: middle;\n",
       "    }\n",
       "\n",
       "    .dataframe tbody tr th {\n",
       "        vertical-align: top;\n",
       "    }\n",
       "\n",
       "    .dataframe thead th {\n",
       "        text-align: right;\n",
       "    }\n",
       "</style>\n",
       "<table border=\"1\" class=\"dataframe\">\n",
       "  <thead>\n",
       "    <tr style=\"text-align: right;\">\n",
       "      <th></th>\n",
       "      <th>Paths</th>\n",
       "    </tr>\n",
       "  </thead>\n",
       "  <tbody>\n",
       "    <tr>\n",
       "      <th>0</th>\n",
       "      <td>CSV_files/2017_Utilities_ecnbasic.csv</td>\n",
       "    </tr>\n",
       "    <tr>\n",
       "      <th>1</th>\n",
       "      <td>CSV_files/2017_Information_ecnbasic.csv</td>\n",
       "    </tr>\n",
       "    <tr>\n",
       "      <th>2</th>\n",
       "      <td>CSV_files/2017_Finance and insurance_ecnbasic.csv</td>\n",
       "    </tr>\n",
       "    <tr>\n",
       "      <th>3</th>\n",
       "      <td>CSV_files/2017_Real estate and rental and leas...</td>\n",
       "    </tr>\n",
       "    <tr>\n",
       "      <th>4</th>\n",
       "      <td>CSV_files/2017_Professional, scientific, and t...</td>\n",
       "    </tr>\n",
       "    <tr>\n",
       "      <th>5</th>\n",
       "      <td>CSV_files/2017_Administrative and support and ...</td>\n",
       "    </tr>\n",
       "    <tr>\n",
       "      <th>6</th>\n",
       "      <td>CSV_files/2017_Educational services_ecnbasic.csv</td>\n",
       "    </tr>\n",
       "    <tr>\n",
       "      <th>7</th>\n",
       "      <td>CSV_files/2017_Health care and social assistan...</td>\n",
       "    </tr>\n",
       "    <tr>\n",
       "      <th>8</th>\n",
       "      <td>CSV_files/2017_Arts, entertainment, and recrea...</td>\n",
       "    </tr>\n",
       "    <tr>\n",
       "      <th>9</th>\n",
       "      <td>CSV_files/2017_Accommodation and food services...</td>\n",
       "    </tr>\n",
       "    <tr>\n",
       "      <th>10</th>\n",
       "      <td>CSV_files/2017_Other services (except public a...</td>\n",
       "    </tr>\n",
       "  </tbody>\n",
       "</table>\n",
       "</div>"
      ],
      "text/plain": [
       "                                                Paths\n",
       "0               CSV_files/2017_Utilities_ecnbasic.csv\n",
       "1             CSV_files/2017_Information_ecnbasic.csv\n",
       "2   CSV_files/2017_Finance and insurance_ecnbasic.csv\n",
       "3   CSV_files/2017_Real estate and rental and leas...\n",
       "4   CSV_files/2017_Professional, scientific, and t...\n",
       "5   CSV_files/2017_Administrative and support and ...\n",
       "6    CSV_files/2017_Educational services_ecnbasic.csv\n",
       "7   CSV_files/2017_Health care and social assistan...\n",
       "8   CSV_files/2017_Arts, entertainment, and recrea...\n",
       "9   CSV_files/2017_Accommodation and food services...\n",
       "10  CSV_files/2017_Other services (except public a..."
      ]
     },
     "execution_count": 3,
     "metadata": {},
     "output_type": "execute_result"
    }
   ],
   "source": [
    "# The data is grabbed from the relevant csv\n",
    "NAICS_2017_csv_paths_df = pd.read_csv(f'CSV_files/NAICS_2017_csv_paths.csv')\n",
    "NAICS_2017_csv_paths_df"
   ]
  },
  {
   "cell_type": "code",
   "execution_count": 4,
   "metadata": {},
   "outputs": [
    {
     "data": {
      "image/png": "[encoded data removed]",
      "text/plain": [
       "<Figure size 432x288 with 1 Axes>"
      ]
     },
     "metadata": {
      "needs_background": "light"
     },
     "output_type": "display_data"
    }
   ],
   "source": [
    "# This section runs a linear regression for all NAICS labels and broadband access\n",
    "\n",
    "# Empty arrays for r-squared and r-values are initialized\n",
    "r_squared = []\n",
    "r_values = []\n",
    "\n",
    "# for loop looping through all paths created in previous steps analyzes all files based upon number employed vs broadband access\n",
    "#    for a specific NAICS label.\n",
    "for path in NAICS_2017_csv_paths_df[\"Paths\"]:\n",
    "    \n",
    "    # Clears figure so plots do not superimpose\n",
    "    plt.clf()\n",
    "    \n",
    "    # Dataframe for relevant label is made\n",
    "    label_df = pd.read_csv(path)\n",
    "    \n",
    "    # Lists for x and y values are defined\n",
    "    x = label_df['Number Employed']\n",
    "    y = label_df['Broadband (%)']\n",
    "\n",
    "    # Linear regression is run\n",
    "    label_slope, label_int, label_r, p, std_err = stats.linregress(x ,y)\n",
    "    label_fit = label_slope * x + label_int\n",
    "\n",
    "    # Plot is crafted and labeled then linear regression and r-squared are superimposed\n",
    "    plt.scatter(x ,y , marker=\"o\", facecolors=\"blue\", edgecolors=\"red\")\n",
    "    plt.title(f'{label_df[\"Year\"].min()} Number Employed in {label_df[\"NAICS2017 Label\"].min()} vs. \\n Percent Broadband Access')\n",
    "    plt.xlabel(\"Number Employed\")\n",
    "    plt.ylabel(\"Broadband Access (%)\")\n",
    "    plt.plot(x , label_fit,\"--\")\n",
    "\n",
    "    # Values for r-squared and r-values are appended to the relevant array\n",
    "    r_squared.append(f'The r-squared for {label_df[\"NAICS2017 Label\"].min()} is {round(label_r**2,3)}.')\n",
    "    r_values.append(f'The r-value for {label_df[\"NAICS2017 Label\"].min()} is {round(label_r,3)}.')\n",
    "\n",
    "    # plot is output and saved as a png\n",
    "    plt.savefig(f'output_charts/{label_df[\"Year\"].min()}_NAICS_{label_df[\"NAICS2017 Label\"].min()}_lin_regress.png',format='png')"
   ]
  },
  {
   "cell_type": "code",
   "execution_count": 5,
   "metadata": {},
   "outputs": [
    {
     "data": {
      "text/plain": [
       "['The r-squared for Utilities is 0.044.',\n",
       " 'The r-squared for Information is 0.055.',\n",
       " 'The r-squared for Finance and insurance is 0.078.',\n",
       " 'The r-squared for Real estate and rental and leasing is 0.078.',\n",
       " 'The r-squared for Professional, scientific, and technical services is 0.079.',\n",
       " 'The r-squared for Administrative and support and waste management and remediation services is 0.062.',\n",
       " 'The r-squared for Educational services is 0.066.',\n",
       " 'The r-squared for Health care and social assistance is 0.144.',\n",
       " 'The r-squared for Arts, entertainment, and recreation is 0.087.',\n",
       " 'The r-squared for Accommodation and food services is 0.119.',\n",
       " 'The r-squared for Other services (except public administration) is 0.115.']"
      ]
     },
     "execution_count": 5,
     "metadata": {},
     "output_type": "execute_result"
    }
   ],
   "source": [
    "r_squared"
   ]
  },
  {
   "cell_type": "code",
   "execution_count": 6,
   "metadata": {},
   "outputs": [
    {
     "data": {
      "text/plain": [
       "['The r-value for Utilities is 0.209.',\n",
       " 'The r-value for Information is 0.235.',\n",
       " 'The r-value for Finance and insurance is 0.279.',\n",
       " 'The r-value for Real estate and rental and leasing is 0.28.',\n",
       " 'The r-value for Professional, scientific, and technical services is 0.28.',\n",
       " 'The r-value for Administrative and support and waste management and remediation services is 0.249.',\n",
       " 'The r-value for Educational services is 0.256.',\n",
       " 'The r-value for Health care and social assistance is 0.38.',\n",
       " 'The r-value for Arts, entertainment, and recreation is 0.295.',\n",
       " 'The r-value for Accommodation and food services is 0.345.',\n",
       " 'The r-value for Other services (except public administration) is 0.339.']"
      ]
     },
     "execution_count": 6,
     "metadata": {},
     "output_type": "execute_result"
    }
   ],
   "source": [
    "r_values"
   ]
  },
  {
   "cell_type": "code",
   "execution_count": 7,
   "metadata": {},
   "outputs": [],
   "source": [
    "## The poverty analysis has a few fairly unrelated values, so it is a bit more generalized"
   ]
  },
  {
   "cell_type": "code",
   "execution_count": 8,
   "metadata": {},
   "outputs": [],
   "source": [
    "# The relevant dataframe is grabbed from the csv so it can be run here.\n",
    "census_2017_acs5_df = pd.read_csv(\"CSV_files/census_2017_acs5_df.csv\")"
   ]
  },
  {
   "cell_type": "code",
   "execution_count": 9,
   "metadata": {},
   "outputs": [
    {
     "data": {
      "image/png": "[encoded data removed]",
      "text/plain": [
       "<Figure size 432x288 with 1 Axes>"
      ]
     },
     "metadata": {
      "needs_background": "light"
     },
     "output_type": "display_data"
    }
   ],
   "source": [
    "# This section runs a linear regression for all NAICS labels and broadband access\n",
    "\n",
    "# Array of column headers to be analyzed against broadband access as a percent\n",
    "headers = [\"Population\", \"Median Age\", \"Household Income\", \"Per Capita Income\", \"Poverty Rate (%)\"]\n",
    "\n",
    "# Arrays to hold r and r-squared values are initilaized\n",
    "r_squared = []\n",
    "r_values = []\n",
    "\n",
    "# for loop looping through each header\n",
    "for header in headers:\n",
    "\n",
    "    # Clears figure so plots do not superimpose\n",
    "    plt.clf()\n",
    "    \n",
    "    # Lists for x and y values are defined\n",
    "    x = census_2017_acs5_df[header]\n",
    "    y = census_2017_acs5_df['Broadband (%)']\n",
    "\n",
    "    # Linear regression is run\n",
    "    header_slope, header_int, header_r, p, std_err = stats.linregress(x ,y)\n",
    "    header_fit = header_slope * x + header_int\n",
    "\n",
    "    # Plot is crafted and labeled then linear regression and r-squared is superimposed\n",
    "    plt.scatter(x ,y , marker=\"o\", facecolors=\"blue\", edgecolors=\"red\")\n",
    "    plt.title(f'2017 {header} vs. Percent Broadband Access')\n",
    "    plt.xlabel(header)\n",
    "    plt.ylabel(\"Broadband Access (%)\")\n",
    "    plt.plot(x , header_fit,\"--\")\n",
    "    \n",
    "    # r_squared values are appended to relevant lists\n",
    "    r_squared.append(f'The r-squared for {header} is {round(header_r**2,3)}.')\n",
    "    r_values.append(f'The r-value for {header} is {round(header_r,3)}.')\n",
    "\n",
    "    # plot is output and saved as a png\n",
    "    plt.savefig(f'output_charts/2017_acs5_{header}_lin_regress.png',format='png')"
   ]
  },
  {
   "cell_type": "code",
   "execution_count": 10,
   "metadata": {},
   "outputs": [
    {
     "data": {
      "text/plain": [
       "['The r-squared for Population is 0.145.',\n",
       " 'The r-squared for Median Age is 0.07.',\n",
       " 'The r-squared for Household Income is 0.204.',\n",
       " 'The r-squared for Per Capita Income is 0.176.',\n",
       " 'The r-squared for Poverty Rate (%) is 0.06.']"
      ]
     },
     "execution_count": 10,
     "metadata": {},
     "output_type": "execute_result"
    }
   ],
   "source": [
    "r_squared"
   ]
  },
  {
   "cell_type": "code",
   "execution_count": 11,
   "metadata": {},
   "outputs": [
    {
     "data": {
      "text/plain": [
       "['The r-value for Population is 0.381.',\n",
       " 'The r-value for Median Age is -0.265.',\n",
       " 'The r-value for Household Income is 0.452.',\n",
       " 'The r-value for Per Capita Income is 0.419.',\n",
       " 'The r-value for Poverty Rate (%) is -0.244.']"
      ]
     },
     "execution_count": 11,
     "metadata": {},
     "output_type": "execute_result"
    }
   ],
   "source": [
    "r_values"
   ]
  }
 ],
 "metadata": {
  "kernelspec": {
   "display_name": "Python [conda env:PythonData] *",
   "language": "python",
   "name": "conda-env-PythonData-py"
  },
  "language_info": {
   "codemirror_mode": {
    "name": "ipython",
    "version": 3
   },
   "file_extension": ".py",
   "mimetype": "text/x-python",
   "name": "python",
   "nbconvert_exporter": "python",
   "pygments_lexer": "ipython3",
   "version": "3.6.10"
  }
 },
 "nbformat": 4,
 "nbformat_minor": 4
}
